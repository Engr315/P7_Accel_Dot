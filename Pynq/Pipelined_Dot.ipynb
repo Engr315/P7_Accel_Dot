{
 "cells": [
  {
   "cell_type": "code",
   "execution_count": 1,
   "metadata": {},
   "outputs": [],
   "source": [
    "%matplotlib inline\n",
    "import json\n",
    "import numpy as np\n",
    "import matplotlib.pyplot as plt\n",
    "import pandas as pd\n",
    "import timeit as tt"
   ]
  },
  {
   "cell_type": "code",
   "execution_count": 2,
   "metadata": {},
   "outputs": [
    {
     "name": "stdout",
     "output_type": "stream",
     "text": [
      "Inputs (Shape):\n",
      " (1, 3)\n",
      "Output (Shape):\n",
      " (1, 4)\n",
      "Weights (Shape):\n",
      " (3, 4)\n",
      "Inputs:\n",
      " [[0.1 0.2 0.3]]\n",
      "Weights:\n",
      " [[ 1.  2.  3.  4.]\n",
      " [ 5.  6.  7.  8.]\n",
      " [ 9. 10. 11. 12.]]\n",
      "Output:\n",
      " [[3.8000002 4.4       5.        5.6000004]]\n",
      "\n",
      "Input\t\t\t Weights\t\t\t  Output\n",
      "[0.1 0.2 0.3]    . \t [1. 2. 3. 4.] \t\t=  [3.8000002 4.4       5.        5.6000004]\n",
      "\t\t\t [5. 6. 7. 8.]\n",
      "\t\t\t [ 9. 10. 11. 12.]\n"
     ]
    }
   ],
   "source": [
    "weights = np.array( [[1,2,3,4],[5,6,7,8],[9,10,11,12]], dtype=np.float32)\n",
    "inputs = np.array([[0.1,0.2,0.3]], dtype=np.float32)\n",
    "outputs = np.dot(inputs, weights)\n",
    "\n",
    "print (\"Inputs (Shape):\\n\", inputs.shape)\n",
    "print (\"Output (Shape):\\n\", outputs.shape)\n",
    "print (\"Weights (Shape):\\n\", weights.shape)\n",
    "\n",
    "print (\"Inputs:\\n\", inputs)\n",
    "print (\"Weights:\\n\", weights)\n",
    "print (\"Output:\\n\", outputs)\n",
    "\n",
    "print ()\n",
    "print ('Input\\t\\t\\t Weights\\t\\t\\t  Output')\n",
    "print ( inputs[0], '   . \\t', weights[0], '\\t\\t= ', outputs[0])\n",
    "for i in range(1,3): print ('\\t\\t\\t', weights[i])\n"
   ]
  },
  {
   "cell_type": "code",
   "execution_count": 3,
   "metadata": {},
   "outputs": [
    {
     "name": "stdout",
     "output_type": "stream",
     "text": [
      "[3.8000002 4.4       5.        5.6000004]\n",
      "[3.8000002 4.4       5.        5.6000004]\n"
     ]
    }
   ],
   "source": [
    "# how its done in dot.sv\n",
    "def pydot(inputs,weights):\n",
    "    inputs = inputs[0] # remove outer nesting\n",
    "    outs = np.zeros(weights.shape[1], dtype=np.float32)\n",
    "    for i in range(weights.shape[0]): # input length\n",
    "        for j in range(weights.shape[1]): # output length\n",
    "            outs[j] = outs[j] + weights[i][j] * inputs[i]\n",
    "    return outs\n",
    "\n",
    "# my results\n",
    "print (pydot(inputs,weights))\n",
    "# reference results\n",
    "print (np.dot(inputs, weights)[0])"
   ]
  },
  {
   "cell_type": "code",
   "execution_count": 11,
   "metadata": {},
   "outputs": [],
   "source": [
    "from pynq import Overlay\n",
    "from pynq import MMIO\n",
    "from pynq import allocate\n",
    "\n",
    "class HwDot():\n",
    "    def __init__(self, bitstream):\n",
    "        self.overlay = Overlay(bitstream)\n",
    "        \n",
    "        self.dma20x10 = self.overlay.axi_dma_0\n",
    "        self.dma40x20 = self.overlay.axi_dma_1\n",
    "        self.dma80x40 = self.overlay.axi_dma_2\n",
    "        \n",
    "        self.in20x10 = allocate(shape=(20,), dtype=np.float32)\n",
    "        self.out20x10 = allocate(shape=(10,), dtype=np.float32)\n",
    "        \n",
    "        self.in40x20 = allocate(shape=(40,), dtype=np.float32)\n",
    "        self.out40x20 = allocate(shape=(20,), dtype=np.float32)\n",
    "        \n",
    "        self.in80x40 = allocate(shape=(80,), dtype=np.float32)\n",
    "        self.out80x40 = allocate(shape=(40,), dtype=np.float32)\n",
    "        \n",
    "    def dot20x10(self,inputs):\n",
    "        np.copyto(self.in20x10, inputs)\n",
    "        return self._dot(self.dma20x10, self.in20x10, self.out20x10)\n",
    "        \n",
    "    def dot40x20(self,inputs):\n",
    "        np.copyto(self.in40x20, inputs)\n",
    "        return self._dot(self.dma40x20, self.in40x20, self.out40x20)\n",
    "    \n",
    "    def dot80x40(self,inputs):\n",
    "        np.copyto(self.in80x40, inputs)\n",
    "        return self._dot(self.dma80x40,self.in80x40, self.out80x40)\n",
    "    \n",
    "    def _dot(self, dma, inputs, outputs):\n",
    "                    \n",
    "        dma.sendchannel.transfer(inputs)\n",
    "        dma.recvchannel.transfer(outputs)\n",
    "\n",
    "        dma.sendchannel.wait()\n",
    "        dma.recvchannel.wait()\n",
    "        \n",
    "        return outputs    "
   ]
  },
  {
   "cell_type": "code",
   "execution_count": 12,
   "metadata": {},
   "outputs": [],
   "source": [
    "def approx_equal( v0, v1, error = 1E-5):\n",
    "    results = []\n",
    "    for (x, y) in zip (v0, v1):\n",
    "        if (abs(x-y) < error):  \n",
    "            results.append(True)\n",
    "        else: results.append(False)\n",
    "    return results"
   ]
  },
  {
   "cell_type": "code",
   "execution_count": 13,
   "metadata": {},
   "outputs": [
    {
     "name": "stdout",
     "output_type": "stream",
     "text": [
      "Equal:  True\n",
      "Timing Python\n",
      "Total Time:14.906354371923953 seconds\n",
      "\n",
      "Timing Numpy\n",
      "Total Time:0.07731177192181349 seconds\n",
      "\n",
      "Timing Unpipelined Hardware\n",
      "Total Time:0.7415093616582453 seconds\n",
      "\n"
     ]
    }
   ],
   "source": [
    "with open('weights.20x10.json') as f:\n",
    "    weights20x10 = np.array(json.load(f))\n",
    "with open('inputs.20x10.json') as f:\n",
    "    inputs20x10 = json.load(f)\n",
    "\n",
    "# software\n",
    "sw_outputs = np.dot( [inputs20x10], weights20x10)\n",
    "\n",
    "unpipe_dot = HwDot('unpipelined.bit')\n",
    "unpipe_outputs = unpipe_dot.dot20x10(inputs20x10)\n",
    "\n",
    "equal = approx_equal(sw_outputs[0], unpipe_outputs)\n",
    "\n",
    "print ('Equal: ', all(equal))\n",
    "\n",
    "def py_test():  return pydot( [inputs20x10], weights20x10)\n",
    "def np_test():  return np.dot( [inputs20x10], weights20x10)\n",
    "def unpipe_test(): return unpipe_dot.dot20x10(inputs20x10)\n",
    "\n",
    "print(\"Timing Python\")\n",
    "time = tt.timeit(py_test, number=1000)\n",
    "print(\"Total Time:\" + str(time) + \" seconds\")\n",
    "print()\n",
    "\n",
    "print(\"Timing Numpy\")\n",
    "time = tt.timeit(np_test, number=1000)\n",
    "print(\"Total Time:\" + str(time) + \" seconds\")\n",
    "print()\n",
    "\n",
    "print(\"Timing Unpipelined Hardware\")\n",
    "time = tt.timeit(unpipe_test, number=1000)\n",
    "print(\"Total Time:\" + str(time) + \" seconds\")\n",
    "print()"
   ]
  },
  {
   "cell_type": "markdown",
   "metadata": {},
   "source": [
    "## Update your Bitstream with a Pipelined Dot, then run this block"
   ]
  },
  {
   "cell_type": "code",
   "execution_count": 14,
   "metadata": {},
   "source": [
    "with open('weights.20x10.json') as f:\n",
    "    weights20x10 = np.array(json.load(f))\n",
    "with open('inputs.20x10.json') as f:\n",
    "    inputs20x10 = json.load(f)\n",
    "\n",
    "# software\n",
    "sw_outputs = np.dot( [inputs20x10], weights20x10)\n",
    "\n",
    "pipe_dot = HwDot('bitstream.bit')\n",
    "pipe_outputs = pipe_dot.dot20x10(inputs20x10)\n",
    "\n",
    "equal = approx_equal(sw_outputs[0], pipe_outputs)\n",
    "\n",
    "print ('Equal: ', all(equal))\n",
    "\n",
    "def py_test():  return pydot( [inputs20x10], weights20x10)\n",
    "def np_test():  return np.dot( [inputs20x10], weights20x10)\n",
    "def pipe_test(): return pipe_dot.dot20x10(inputs20x10)\n",
    "\n",
    "print(\"Timing Python\")\n",
    "time = tt.timeit(py_test, number=1000)\n",
    "print(\"Total Time:\" + str(time) + \" seconds\")\n",
    "print()\n",
    "\n",
    "print(\"Timing Numpy\")\n",
    "time = tt.timeit(np_test, number=1000)\n",
    "print(\"Total Time:\" + str(time) + \" seconds\")\n",
    "print()\n",
    "\n",
    "print(\"Timing pipelined Hardware\")\n",
    "time = tt.timeit(pipe_test, number=1000)\n",
    "print(\"Total Time:\" + str(time) + \" seconds\")\n",
    "print()"
   ]
  },
  {
   "cell_type": "markdown",
   "metadata": {},
   "source": [
    "## Now update this to time the 20x10, 40x20, and 80x40 Dots.  "
   ]
  },
  {
   "cell_type": "markdown",
   "metadata": {},
   "source": [
    "## Then you need to estimate how the Hardware compares to NumPy.  And estimate when the Hardware will be faster than NumPy.  "
   ]
  },
  {
   "cell_type": "code",
   "execution_count": null,
   "metadata": {},
   "outputs": [],
   "source": []
  }
 ],
 "metadata": {
  "kernelspec": {
   "display_name": "Python 3",
   "language": "python",
   "name": "python3"
  },
  "language_info": {
   "codemirror_mode": {
    "name": "ipython",
    "version": 3
   },
   "file_extension": ".py",
   "mimetype": "text/x-python",
   "name": "python",
   "nbconvert_exporter": "python",
   "pygments_lexer": "ipython3",
   "version": "3.6.5"
  }
 },
 "nbformat": 4,
 "nbformat_minor": 2
}
